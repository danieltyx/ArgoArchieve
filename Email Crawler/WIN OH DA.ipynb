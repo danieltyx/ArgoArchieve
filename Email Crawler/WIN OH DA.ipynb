{
 "cells": [
  {
   "cell_type": "code",
   "execution_count": 2,
   "id": "2d6a8278",
   "metadata": {},
   "outputs": [
    {
     "name": "stdout",
     "output_type": "stream",
     "text": [
      "CAREY GETS WARNING\n",
      "ON WELFARE BUDGET\n",
      "\n",
      "Increasing Costs Are Threatening\n",
      "Overrun of Up to $175 Million\n",
      "\n",
      "By LINDA GREENHOUSE\n",
      "\n",
      "State budget officials told Governor]\n",
      "Carey yesterday that if welfare costs con-\n",
      "tinsed to increase at the current rate,\n",
      "there would be an overrun of $120 million\n",
      "to $175 million in the state's welfare\n",
      "‘budget for the current fiscal year.\n",
      "\n",
      "The higher figure is more than 10 per-\n",
      "ceat of the state's current welfare budget\n",
      "of $1.657 billion. Either figure would be|\n",
      "blow to the state’s precariously bal-\n",
      "anced budget.\n",
      "\n",
      "Governor Carey called the new pro-\n",
      "jection a “very profound and disturbing\n",
      "reflection of the depressed state of our|\n",
      "national and regional economy.” He di-\n",
      "rected his Socail Services Commission,\n",
      "Philip Toia, to work with the state's coun-\n",
      "ty executives to “develop a complete and\n",
      "thorough range of legislative proposals”\n",
      "to counteract the rising welfare bills.\n",
      "\n",
      "Upstate Factors Cited\n",
      "\n",
      "The Budget Division said that most of\n",
      "the overrun was occurring upstate in the\n",
      "‘home relief—singles” category of public\n",
      "assistance, which goes mainly to people\n",
      "living alone whose unemployment bere-\n",
      "fits have expired.\n",
      "\n",
      "Meanwhile, a federally financed study\n",
      "by the Rand Corporation reported yester-\n",
      "day that New York City's welfare families\n",
      "actually received cash and other services\n",
      "that lifted as many as 90 percent of them\n",
      "atove the poverty level. [Page 25.]\n",
      "\n",
      "The state's current welfare budget es-\n",
      "sunes a “home relief—singles” caselord\n",
      "of 100,000 recipients 2 month. But the\n",
      "revised projections are for a caseload of\n",
      "132,200 recipients a month by the exd\n",
      "of the year.\n",
      "\n",
      "According to the Budget Division. the\n",
      "home relief caseload is rising at the rate\n",
      "of 5,000 every three months in New York\n",
      "City and 14,000 a month upstate,\n",
      "\n",
      "Unlike Medicaid and Aid to Dependent\n",
      "\n",
      "Continued on Page\n",
      "\n",
      "Column 1\n",
      "\n",
      "\n"
     ]
    }
   ],
   "source": [
    "from PIL import Image\n",
    "from pytesseract import pytesseract\n",
    "\n",
    "\n",
    "path_to_image = '/Users/danieltian/Desktop/sample_news.jpg'\n",
    "\n",
    "img = Image.open(path_to_image)\n",
    "\n",
    "text = pytesseract.image_to_string(img)\n",
    "\n",
    "print(text)"
   ]
  },
  {
   "cell_type": "code",
   "execution_count": 14,
   "id": "a58f8111",
   "metadata": {},
   "outputs": [
    {
     "name": "stdout",
     "output_type": "stream",
     "text": [
      "{\"summary\":\"CAREY GETS WARNING\\nON WELFARE BUDGET\\n\\nIncreasing Costs Are Threatening\\nOverrun of Up to $175 Million\\n\\nBy LINDA GREENHOUSE\\n\\nState budget officials told Governor]\\nCarey yesterday that if welfare costs con-\\ntinsed to increase at the current rate,\\nthere would be an overrun of $120 million\\nto $175 million in the state's welfare\\n‘budget for the current fiscal year.The higher figure is more than 10 per-\\nceat of the state's current welfare budget\\nof $1.657 billion.Governor Carey called the new pro-\\njection a “very profound and disturbing\\nreflection of the depressed state of our|\\nnational and regional economy.” He di-\\nrected his Socail Services Commission,\\nPhilip Toia, to work with the state's coun-\\nty executives to “develop a complete and\\nthorough range of legislative proposals”\\nto counteract the rising welfare bills.Upstate Factors Cited\\n\\nThe Budget Division said that most of\\nthe overrun was occurring upstate in the\\n‘home relief—singles” category of public\\nassistance, which goes mainly to people\\nliving alone whose unemployment bere-\\nfits have expired.the\\nhome relief caseload is rising at the rate\\nof 5,000 every three months in New York\\nCity and 14,000 a month upstate,\\n\\nUnlike Medicaid and Aid to Dependent\\n\\nContinued on Page\\n\\nColumn 1\"}\n"
     ]
    }
   ],
   "source": [
    "import requests\n",
    "\n",
    "url = \"https://tldr-text-analysis.p.rapidapi.com/summarize/\"\n",
    "\n",
    "querystring = {\"text\":\"https://gist.githubusercontent.com/danieltyx/509477348f4b60b49516d204318ecc36/raw/8d0a439663eecd0867aaf097bedc6c70c20fe758/test1\",\"max_sentences\":\"5\"}\n",
    "\n",
    "headers = {\n",
    "\t\"X-RapidAPI-Key\": \"820c97db72msh6de5ae270ca147cp1e9ecdjsn0220688f7412\",\n",
    "\t\"X-RapidAPI-Host\": \"tldr-text-analysis.p.rapidapi.com\"\n",
    "}\n",
    "\n",
    "response = requests.request(\"GET\", url, headers=headers, params=querystring)\n",
    "\n",
    "print(response.text)"
   ]
  },
  {
   "cell_type": "code",
   "execution_count": 15,
   "id": "b2d1f0a1",
   "metadata": {},
   "outputs": [
    {
     "data": {
      "text/plain": [
       "\"CAREY GETS WARNING\\nON WELFARE BUDGET\\n\\nIncreasing Costs Are Threatening\\nOverrun of Up to $175 Million\\n\\nBy LINDA GREENHOUSE\\n\\nState budget officials told Governor]\\nCarey yesterday that if welfare costs con-\\ntinsed to increase at the current rate,\\nthere would be an overrun of $120 million\\nto $175 million in the state's welfare\\n‘budget for the current fiscal year.\\n\\nThe higher figure is more than 10 per-\\nceat of the state's current welfare budget\\nof $1.657 billion. Either figure would be|\\nblow to the state’s precariously bal-\\nanced budget.\\n\\nGovernor Carey called the new pro-\\njection a “very profound and disturbing\\nreflection of the depressed state of our|\\nnational and regional economy.” He di-\\nrected his Socail Services Commission,\\nPhilip Toia, to work with the state's coun-\\nty executives to “develop a complete and\\nthorough range of legislative proposals”\\nto counteract the rising welfare bills.\\n\\nUpstate Factors Cited\\n\\nThe Budget Division said that most of\\nthe overrun was occurring upstate in the\\n‘home relief—singles” category of public\\nassistance, which goes mainly to people\\nliving alone whose unemployment bere-\\nfits have expired.\\n\\nMeanwhile, a federally financed study\\nby the Rand Corporation reported yester-\\nday that New York City's welfare families\\nactually received cash and other services\\nthat lifted as many as 90 percent of them\\natove the poverty level. [Page 25.]\\n\\nThe state's current welfare budget es-\\nsunes a “home relief—singles” caselord\\nof 100,000 recipients 2 month. But the\\nrevised projections are for a caseload of\\n132,200 recipients a month by the exd\\nof the year.\\n\\nAccording to the Budget Division. the\\nhome relief caseload is rising at the rate\\nof 5,000 every three months in New York\\nCity and 14,000 a month upstate,\\n\\nUnlike Medicaid and Aid to Dependent\\n\\nContinued on Page\\n\\nColumn 1\\n\\n\""
      ]
     },
     "execution_count": 15,
     "metadata": {},
     "output_type": "execute_result"
    }
   ],
   "source": [
    "text"
   ]
  },
  {
   "cell_type": "code",
   "execution_count": 10,
   "id": "110ac0f6",
   "metadata": {},
   "outputs": [
    {
     "name": "stderr",
     "output_type": "stream",
     "text": [
      "[nltk_data] Downloading package stopwords to\n",
      "[nltk_data]     /Users/danieltian/nltk_data...\n",
      "[nltk_data]   Unzipping corpora/stopwords.zip.\n"
     ]
    },
    {
     "data": {
      "text/plain": [
       "True"
      ]
     },
     "execution_count": 10,
     "metadata": {},
     "output_type": "execute_result"
    }
   ],
   "source": [
    "import nltk\n",
    "import string\n",
    "from heapq import nlargest\n",
    "nltk.download('stopwords')"
   ]
  },
  {
   "cell_type": "code",
   "execution_count": null,
   "id": "e93f668c",
   "metadata": {},
   "outputs": [],
   "source": []
  },
  {
   "cell_type": "code",
   "execution_count": 16,
   "id": "5ff573e6",
   "metadata": {},
   "outputs": [],
   "source": [
    "# Remove punctuation\n",
    "nopunc = [char for char in text if char not in string.punctuation]\n",
    "nopunc = ''.join(nopunc)\n",
    "# Remove stopwords\n",
    "processed_text =[word for word in nopunc.split() if word.lower() not in nltk.corpus.stopwords.words('english')]"
   ]
  },
  {
   "cell_type": "code",
   "execution_count": 17,
   "id": "44e3c00a",
   "metadata": {},
   "outputs": [],
   "source": [
    "# Create a dictionary to store word frequency\n",
    "word_freq = {}\n",
    "# Enter each word and its number of occurrences\n",
    "for word in text:\n",
    "  if word not in word_freq:\n",
    "    word_freq[word] = 1\n",
    "  else:\n",
    "    word_freq[word] = word_freq[word] + 1"
   ]
  },
  {
   "cell_type": "code",
   "execution_count": 18,
   "id": "4255f3a6",
   "metadata": {},
   "outputs": [
    {
     "data": {
      "text/plain": [
       "{'C': 11,\n",
       " 'A': 7,\n",
       " 'R': 5,\n",
       " 'E': 9,\n",
       " 'Y': 3,\n",
       " ' ': 243,\n",
       " 'G': 6,\n",
       " 'T': 7,\n",
       " 'S': 5,\n",
       " 'W': 2,\n",
       " 'N': 7,\n",
       " 'I': 3,\n",
       " '\\n': 65,\n",
       " 'O': 3,\n",
       " 'L': 2,\n",
       " 'F': 2,\n",
       " 'B': 5,\n",
       " 'U': 5,\n",
       " 'D': 5,\n",
       " 'n': 81,\n",
       " 'c': 47,\n",
       " 'r': 94,\n",
       " 'e': 193,\n",
       " 'a': 95,\n",
       " 's': 77,\n",
       " 'i': 94,\n",
       " 'g': 28,\n",
       " 'o': 105,\n",
       " 't': 126,\n",
       " 'h': 53,\n",
       " 'v': 21,\n",
       " 'u': 37,\n",
       " 'f': 38,\n",
       " 'p': 27,\n",
       " '$': 4,\n",
       " '1': 9,\n",
       " '7': 3,\n",
       " '5': 5,\n",
       " 'M': 3,\n",
       " 'l': 61,\n",
       " 'y': 26,\n",
       " 'H': 2,\n",
       " 'b': 16,\n",
       " 'd': 49,\n",
       " ']': 2,\n",
       " 'w': 18,\n",
       " '-': 9,\n",
       " ',': 10,\n",
       " '2': 5,\n",
       " '0': 16,\n",
       " 'm': 22,\n",
       " \"'\": 5,\n",
       " '‘': 2,\n",
       " '.': 12,\n",
       " '6': 1,\n",
       " '|': 2,\n",
       " '’': 1,\n",
       " 'j': 2,\n",
       " '“': 3,\n",
       " '”': 4,\n",
       " 'P': 3,\n",
       " 'k': 4,\n",
       " 'x': 3,\n",
       " '—': 2,\n",
       " '9': 1,\n",
       " '[': 1,\n",
       " '3': 1,\n",
       " '4': 1}"
      ]
     },
     "execution_count": 18,
     "metadata": {},
     "output_type": "execute_result"
    }
   ],
   "source": [
    "word_freq"
   ]
  },
  {
   "cell_type": "code",
   "execution_count": 29,
   "id": "8a5e1d42",
   "metadata": {},
   "outputs": [],
   "source": [
    "str = text\n",
    "str_list = str.split()\n",
    "\n",
    "# gives set of unique words\n",
    "unique_words = set(str_list)\n",
    "t = []\n",
    "a= []\n",
    "for words in unique_words :\n",
    "    t.append(words)\n",
    "    a.append(str_list.count(words))\n",
    "    #print('Frequency of ', words , 'is :', str_list.count(words))\n"
   ]
  },
  {
   "cell_type": "code",
   "execution_count": 38,
   "id": "4723c11a",
   "metadata": {},
   "outputs": [],
   "source": [
    "\n",
    "import pandas as pd\n",
    "df = pd.DataFrame(list(zip(t, a)),\n",
    "               columns =['word', 'freq'])"
   ]
  },
  {
   "cell_type": "code",
   "execution_count": 53,
   "id": "52862a9b",
   "metadata": {},
   "outputs": [],
   "source": [
    "df = df.sort_values(by=['freq'],ascending=False)"
   ]
  },
  {
   "cell_type": "code",
   "execution_count": 54,
   "id": "a5cb27b5",
   "metadata": {},
   "outputs": [],
   "source": [
    "df_sub = df[0:20]"
   ]
  },
  {
   "cell_type": "code",
   "execution_count": 56,
   "id": "4235df20",
   "metadata": {},
   "outputs": [],
   "source": [
    "df_sub = df_sub.drop([33, 61,39,59,126,43,31,27,136])"
   ]
  },
  {
   "cell_type": "code",
   "execution_count": 57,
   "id": "86b281ba",
   "metadata": {},
   "outputs": [],
   "source": [
    "import seaborn as sns\n",
    "sns.set_theme(style=\"whitegrid\")"
   ]
  },
  {
   "cell_type": "code",
   "execution_count": 58,
   "id": "38050c10",
   "metadata": {},
   "outputs": [
    {
     "data": {
      "text/html": [
       "<div>\n",
       "<style scoped>\n",
       "    .dataframe tbody tr th:only-of-type {\n",
       "        vertical-align: middle;\n",
       "    }\n",
       "\n",
       "    .dataframe tbody tr th {\n",
       "        vertical-align: top;\n",
       "    }\n",
       "\n",
       "    .dataframe thead th {\n",
       "        text-align: right;\n",
       "    }\n",
       "</style>\n",
       "<table border=\"1\" class=\"dataframe\">\n",
       "  <thead>\n",
       "    <tr style=\"text-align: right;\">\n",
       "      <th></th>\n",
       "      <th>word</th>\n",
       "      <th>freq</th>\n",
       "    </tr>\n",
       "  </thead>\n",
       "  <tbody>\n",
       "    <tr>\n",
       "      <th>96</th>\n",
       "      <td>welfare</td>\n",
       "      <td>6</td>\n",
       "    </tr>\n",
       "    <tr>\n",
       "      <th>32</th>\n",
       "      <td>current</td>\n",
       "      <td>4</td>\n",
       "    </tr>\n",
       "    <tr>\n",
       "      <th>103</th>\n",
       "      <td>state's</td>\n",
       "      <td>4</td>\n",
       "    </tr>\n",
       "    <tr>\n",
       "      <th>80</th>\n",
       "      <td>budget</td>\n",
       "      <td>3</td>\n",
       "    </tr>\n",
       "    <tr>\n",
       "      <th>140</th>\n",
       "      <td>recipients</td>\n",
       "      <td>2</td>\n",
       "    </tr>\n",
       "    <tr>\n",
       "      <th>49</th>\n",
       "      <td>year.</td>\n",
       "      <td>2</td>\n",
       "    </tr>\n",
       "    <tr>\n",
       "      <th>158</th>\n",
       "      <td>million</td>\n",
       "      <td>2</td>\n",
       "    </tr>\n",
       "    <tr>\n",
       "      <th>175</th>\n",
       "      <td>caseload</td>\n",
       "      <td>2</td>\n",
       "    </tr>\n",
       "    <tr>\n",
       "      <th>71</th>\n",
       "      <td>overrun</td>\n",
       "      <td>2</td>\n",
       "    </tr>\n",
       "    <tr>\n",
       "      <th>176</th>\n",
       "      <td>figure</td>\n",
       "      <td>2</td>\n",
       "    </tr>\n",
       "    <tr>\n",
       "      <th>88</th>\n",
       "      <td>rising</td>\n",
       "      <td>2</td>\n",
       "    </tr>\n",
       "  </tbody>\n",
       "</table>\n",
       "</div>"
      ],
      "text/plain": [
       "           word  freq\n",
       "96      welfare     6\n",
       "32      current     4\n",
       "103     state's     4\n",
       "80       budget     3\n",
       "140  recipients     2\n",
       "49        year.     2\n",
       "158     million     2\n",
       "175    caseload     2\n",
       "71      overrun     2\n",
       "176      figure     2\n",
       "88       rising     2"
      ]
     },
     "execution_count": 58,
     "metadata": {},
     "output_type": "execute_result"
    }
   ],
   "source": [
    "df_sub"
   ]
  },
  {
   "cell_type": "code",
   "execution_count": 65,
   "id": "ed46ad7d",
   "metadata": {},
   "outputs": [
    {
     "data": {
      "text/plain": [
       "<AxesSubplot:xlabel='freq', ylabel='word'>"
      ]
     },
     "execution_count": 65,
     "metadata": {},
     "output_type": "execute_result"
    },
    {
     "data": {
      "image/png": "[encoded data removed]",
      "text/plain": [
       "<Figure size 432x288 with 1 Axes>"
      ]
     },
     "metadata": {},
     "output_type": "display_data"
    }
   ],
   "source": [
    "sns.histplot(data=df_sub, x=\"freq\",y=\"word\")"
   ]
  },
  {
   "cell_type": "code",
   "execution_count": null,
   "id": "43ed492b",
   "metadata": {},
   "outputs": [],
   "source": []
  }
 ],
 "metadata": {
  "kernelspec": {
   "display_name": "Python 3",
   "language": "python",
   "name": "python3"
  },
  "language_info": {
   "codemirror_mode": {
    "name": "ipython",
    "version": 3
   },
   "file_extension": ".py",
   "mimetype": "text/x-python",
   "name": "python",
   "nbconvert_exporter": "python",
   "pygments_lexer": "ipython3",
   "version": "3.7.10"
  }
 },
 "nbformat": 4,
 "nbformat_minor": 5
}
