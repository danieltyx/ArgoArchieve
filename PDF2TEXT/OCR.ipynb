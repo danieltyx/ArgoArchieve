{
 "cells": [
  {
   "cell_type": "code",
   "execution_count": 7,
   "metadata": {},
   "outputs": [
    {
     "name": "stdout",
     "output_type": "stream",
     "text": [
      "Page segmentation modes:\n",
      "  0    Orientation and script detection (OSD) only.\n",
      "  1    Automatic page segmentation with OSD.\n",
      "  2    Automatic page segmentation, but no OSD, or OCR. (not implemented)\n",
      "  3    Fully automatic page segmentation, but no OSD. (Default)\n",
      "  4    Assume a single column of text of variable sizes.\n",
      "  5    Assume a single uniform block of vertically aligned text.\n",
      "  6    Assume a single uniform block of text.\n",
      "  7    Treat the image as a single text line.\n",
      "  8    Treat the image as a single word.\n",
      "  9    Treat the image as a single word in a circle.\n",
      " 10    Treat the image as a single character.\n",
      " 11    Sparse text. Find as much text as possible in no particular order.\n",
      " 12    Sparse text with OSD.\n",
      " 13    Raw line. Treat the image as a single text line,\n",
      "       bypassing hacks that are Tesseract-specific.\n"
     ]
    }
   ],
   "source": [
    "!tesseract --help-psm"
   ]
  },
  {
   "cell_type": "code",
   "execution_count": 11,
   "metadata": {},
   "outputs": [
    {
     "data": {
      "text/plain": [
       "True"
      ]
     },
     "execution_count": 11,
     "metadata": {},
     "output_type": "execute_result"
    }
   ],
   "source": [
    "import pytesseract\n",
    "import cv2\n",
    "\n",
    "\n",
    "pdf_file = r\"C:\\Users\\Cheng\\Downloads\\1-19-1938 Leela Menon(scan).png\"\n",
    "image = cv2.imread(pdf_file)\n",
    "\n",
    "\n",
    "data = pytesseract.image_to_data(image, output_type='data.frame', config=\"--psm 1\")\n",
    "\n",
    "\n",
    "for i, row in data.iterrows():\n",
    "    \n",
    "    if row['text'] != '':\n",
    "        \n",
    "        x, y, w, h = row['left'], row['top'], row['width'], row['height']\n",
    "        \n",
    "        cv2.rectangle(image, (x, y), (x + w, y + h), (0, 0, 255), 2)\n",
    "\n",
    "\n",
    "cv2.imwrite(r\"C:\\Users\\Cheng\\Downloads\\Open Peeps - Avatar.png\", image)"
   ]
  }
 ],
 "metadata": {
  "kernelspec": {
   "display_name": "Python 3",
   "language": "python",
   "name": "python3"
  },
  "language_info": {
   "codemirror_mode": {
    "name": "ipython",
    "version": 3
   },
   "file_extension": ".py",
   "mimetype": "text/x-python",
   "name": "python",
   "nbconvert_exporter": "python",
   "pygments_lexer": "ipython3",
   "version": "3.10.9 (tags/v3.10.9:1dd9be6, Dec  6 2022, 20:01:21) [MSC v.1934 64 bit (AMD64)]"
  },
  "orig_nbformat": 4,
  "vscode": {
   "interpreter": {
    "hash": "dbb24439d0f377cc9439056959e67499e213ea146e61dd405f0e49a9ad6cbeac"
   }
  }
 },
 "nbformat": 4,
 "nbformat_minor": 2
}
