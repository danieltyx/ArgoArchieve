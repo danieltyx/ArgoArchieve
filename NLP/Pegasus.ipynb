{
 "cells": [
  {
   "cell_type": "code",
   "execution_count": null,
   "metadata": {},
   "outputs": [],
   "source": [
    "!pip3 install torch torchvision torchaudio\n",
    "!pip install transformers\n",
    "!pip install sentencepiece"
   ]
  },
  {
   "cell_type": "code",
   "execution_count": 2,
   "metadata": {},
   "outputs": [
    {
     "name": "stderr",
     "output_type": "stream",
     "text": [
      "C:\\Users\\Cheng\\AppData\\Local\\Packages\\PythonSoftwareFoundation.Python.3.10_qbz5n2kfra8p0\\LocalCache\\local-packages\\Python310\\site-packages\\tqdm\\auto.py:22: TqdmWarning: IProgress not found. Please update jupyter and ipywidgets. See https://ipywidgets.readthedocs.io/en/stable/user_install.html\n",
      "  from .autonotebook import tqdm as notebook_tqdm\n"
     ]
    }
   ],
   "source": [
    "from transformers import PegasusForConditionalGeneration, PegasusTokenizer\n",
    "import torch"
   ]
  },
  {
   "cell_type": "code",
   "execution_count": 2,
   "metadata": {},
   "outputs": [
    {
     "ename": "NameError",
     "evalue": "name 'torch' is not defined",
     "output_type": "error",
     "traceback": [
      "\u001b[1;31m---------------------------------------------------------------------------\u001b[0m",
      "\u001b[1;31mNameError\u001b[0m                                 Traceback (most recent call last)",
      "Cell \u001b[1;32mIn[2], line 2\u001b[0m\n\u001b[0;32m      1\u001b[0m model_name \u001b[39m=\u001b[39m \u001b[39m'\u001b[39m\u001b[39mgoogle/pegasus-xsum\u001b[39m\u001b[39m'\u001b[39m\n\u001b[1;32m----> 2\u001b[0m torch_device \u001b[39m=\u001b[39m \u001b[39m'\u001b[39m\u001b[39mcuda\u001b[39m\u001b[39m'\u001b[39m \u001b[39mif\u001b[39;00m torch\u001b[39m.\u001b[39mcuda\u001b[39m.\u001b[39mis_available() \u001b[39melse\u001b[39;00m \u001b[39m'\u001b[39m\u001b[39mcpu\u001b[39m\u001b[39m'\u001b[39m\n\u001b[0;32m      3\u001b[0m tokenizer \u001b[39m=\u001b[39m PegasusTokenizer\u001b[39m.\u001b[39mfrom_pretrained(model_name)\n\u001b[0;32m      4\u001b[0m model \u001b[39m=\u001b[39m PegasusForConditionalGeneration\u001b[39m.\u001b[39mfrom_pretrained(model_name)\u001b[39m.\u001b[39mto(torch_device)\n",
      "\u001b[1;31mNameError\u001b[0m: name 'torch' is not defined"
     ]
    }
   ],
   "source": [
    "model_name = 'google/pegasus-xsum'\n",
    "torch_device = 'cuda' if torch.cuda.is_available() else 'cpu'\n",
    "tokenizer = PegasusTokenizer.from_pretrained(model_name)\n",
    "model = PegasusForConditionalGeneration.from_pretrained(model_name).to(torch_device)"
   ]
  },
  {
   "cell_type": "code",
   "execution_count": 11,
   "metadata": {},
   "outputs": [
    {
     "name": "stdout",
     "output_type": "stream",
     "text": [
      "[' ', '', 'PREF PLAYS WARDLAW, TONIGUT, AT THE GYM, %:00', '', ' ', '', 'TEACHER DISAGREES WIT? SENIOR', 'STATES OFINION ON EXCANGE', '', 'To. the Editor:', '', 'DECISION;', 'STUDENT ISSUE', '', 'In reference to the letter submitted to The Weekly Arzo, I', 'wish to discuss the problem of the exchange student froma for-', '', \"eisner's point of view.\", '', 'It apperrs to me that the Seniors, ex-', '', 'Cusablv inexperienced in a matter like this, are disputing irrel-', 'evant points, while overlooking real difficulties.', 'Tietr \"most common arzument\" pertains to the suitability of', '', 'our scnool as a host for a foreicn student,', '', 'I believe that the', '', 'American Tield Service is competent to decide this cuestion for', '', 'us,', '', 'The concern about the reactions of an exchange student to a', '', 'private school is humane but superfluous,', '', 'eager to experience American', 'life, and they are particularly', 'interested in the activities of', 'their 4nerican peers, The con-', 'cepts \"private and public', 'schools\" do not mean much to', 'tiem, because they are not aware', 'of the great difference between', 'the two. To them they are Amer-', 'ican schools,', 'as we now it, with its exten-', 'sive extracurricular program', 'Jses not exist elsewhere, \"A-', '-.oad\" the emphasis is on the', '»demic work, as it is in Prep.', 'Yivate schools may very', 'well make the better impression', 'on them, ‘We do:not have a sug-', 'arcoated, whippedcream exchange', 'program, but we have an academic', 'vrogram which compares favorably', 'with those abraod. There are', 'misconceptions abovt Americen', 'education, unfavoreble for us.', 'We do not want to feed these.', 'There are no indicétions', 'that Prep will be in an awkward', 'transition period next year,', 'the preparations for the move', '.a.v@ been profound, The student', 'comins here to share American', 'life will have to accept this', 'transition as a facet of our', 'life. What absurd individual', 'would anticipate having an', '“easy time\" in America? This', '-fval is a sign of decadence,', '‘Le foreign student behongs to', 'She selected few and therefore', '', ': expected to have higher', '', 'a-os rations,', '“ne difficulties which', '‘obs out of our one previous', 'Capearisnce were of a personal', 'iuss, If anyone expected', 'XL Sersonal satisfaction,', '', '-n vce disappointment was', 'deserved, because his motiva-', 'itons should not have been of a', 'virsonal nature but should nave', 'bean vert of a hicher plan,', '', 'The Juniors, more than the', '', ' ', '', '  ', '', ' ', '', ' ', '', 'Toreign students are', '', ' ', '', 'The public school,', '', ' ', '', 'Seniors, should be most concerned', 'with this problem. The Seniors', 'will be dispersed, while the', 'Juniors will ‘ave the job of', 'making the student feel at home,', 'But we should expect the Seniors', 'to set an example.', '', 'We snould focus our atten-=', 'tion on the following questions:', 'Is: this cause worthwhile? ‘Would', 'it contribute to tne creation', 'of better rehations between na-', 'tions? Would it be of any na-', 'tional value in the sense of', 'correcting certain misconcep-', 'tions about America? Would it', 'be of any value to our sciiool?', 'Are we prepared to sacrifice,', 'financially and otherwise? Are', 'we willing to let the foreign', 'cuest. snare our private lives?', '“@ has no other friends but you.', '‘te is anxious to see your home,', '', '(cont. on pare 2)', '', 'PREP ADIINISTERS THE', 'CURRENT AFFAIRS TEST', '', 'The Time Masazine Current', 'Affairs test was administered', 'by Mir, Frank V. Sperduto on', 'February 18 and 19, A test of', 'knowledge on international', 'affairs and politics, it is di-', '', '| vided into sections of multiple', '', 'choice, matching, and true and', 'false quesfions,', '', 'The examination was talen', 'by a large group of students', 'from each class. Three prizes', 'wiil be awarded at the ena of', 'the year to those students', 'whose scores were the highest.', '', 'Commenting on the success', 'of many students, l’r, Sperduto', 'said, \"lore people are better', 'informed about international', 'affairs altnough the School', 'does not have special current', 'events classes, They nave kept', 'up with the news on their own,”', '', ' ', '\\x0cVol. 1, No, 3 Pare 2', '', 'J.V. CAGERS', '', 'February 21, 1963', '', 'NAVE CHANCE FOR WINNING SEASON;', '', 'PROVE TO BE STRONG RIVALS, EXPERIENCED TAI?', '', \"by David Pickar '65\", \"Tais year's J.¥.- Basketball team has: presented itself as\", '', 'one of the strorsest in many years,', '', 'below a .500 season -(5-6) with its', '', 'Although it fell one notch', 'loss to South Brunswick High', '', 'school, the team tas a chance for a winning season, as games', 'against lontclair Acadeny and Wardlaw remain on the schedule,', '', ' ', '', ' ', '', 'Playing its finest ball', 'savin', '', 'Jor', '', '      ', ' ', '    ', '  ', '', '45 Led by', '', '5 end score', 'end Dave', '', 'i and 14 points', 'ling up Laine', 'cer the', '', 'and Dave', '', 'Gisasnt of', '', '115 § !', 'ma: al', '', '  ', '', ' ', '', 'CLUB FURSHAST™ ~\" TORS', 'TO AlD NATH STUDEWTS', '', 'The liata Club. under the', '', 'eection of ir, ueorge Zézen-', '4s purchased e e2t of', '', '| sLides for the Pr2paratory', '-0ol, Iir, Zezenski believes', 'cant these slides, dealing', 'aiinly with the theoretical', 'ide of elementary alzebra,', 'will help the seventh and eighth', 'sevders to g&in a better underf', 'ananding of what algebra is.', 'Siaceeding math clubs will _', 'ouve che option! of buying more', 'rim slides. :', '', 'In preceding weeks the', 'th Ciub has been ettempting', 'hematical puzzles and sev-', '“l students have presenteds', '“ber nuzzles and their solu-', 'tions before the members of', 'tue club,', '', 'a', '', '   ', '', 'Arh oo', '', '  ', '', 'LETTER .Cont,. .... ~.+ aay', 'oo meet your parents and friends.', 'Tie obligation goes beyond the', '1imits of the classroom, If the', 'student happens to be a girl,', 'ca2ehn boy has the personal obli-', 'getion to invite her to dances,', 'even if she looks ‘like an oc-', 'nvpus. Our dating system is', 'ne 4% known a-road. In modern |', '‘urcicn countries boys often go', 'ue to dances, end. so do cirls.:', '“sey meet at the dance floor,', '..d no one frowns upon it. The', '-bligation of providing a part-', '12¢ for a girl should be a mat-', '“ur acpeed upon by gentlemen in', 'rpleit of courtesy and chiv-', '', '  ', '  ', '', 'Aca Prep student should', 'ior bimself if he wants', 'these responsibilities,', 'the answer is not a wnole-', '', 'lieortea \"yes,\" this privilece', 'i.culd be left to other schools,', 'A.W... Rooda', '', 'wid', '', 'Pa ae', '¢ §iate', '', '  ', '', ' ', '', 'hendled by Andy Blumbers, dim', 'GinttLe and Sandy Heinlein.', 'feainst Carteret Prep,', 'the J.V,. eagers acquired two', '623y victori.s3 in wiich Coach', 'Ribery Rigacner hed the oppor-', 'tunity wv ia serverves,', 'ar eompose the', '', ' ', '', ' ', '      ', '', '‘i', 'WELL A', 'Duc Lene of', 'id the secon', 'Franli.in hich ack - the Srgo-', 'Neuss Tougni. a see~say battle,', 'but tre tea lost by a 10 point', 'Marites', '', '   ', '', ' ', '', ' ', '', \"CALLS WILLIANS' PLAY\", 'WORTIVWELLE BUT SLOW', '', \"by Ralph Rosenberg '64\", '', \". Tm ig Doesn't\", '', 'Stop Ler » ls Tennessee', 'Villiars” play. It cone', \"cerns 2. former socizlite's pit-\", 'iful attempt to convince herself', \"that she isn't coing to die\", 'soon, Willieas tries to show', 'that death without a shred of', 'nobility of disnity can also', '', 'be- tragic. .', '', 'The central character is', 'Flora Goforth, played by “er-', 'moine. Baddeley, who made her', 'Dreadwey debub in A Teste of', 'Honey, She is finishing her', 'menoires, the dook of her life,', 'because she realizes that \"this', 'suumer:sie will die.\" A wan-', 'cering poet, Chris, whom some', 'revievers have labeled.a Christ', \"symbol, comes to Flora's villa\", 'to comfort her during this, her', 'last summer, But Flora misun-', 'derstands his offer and tries', 'to sedude him, At the end of', 'the play, when Tlora is near', 'death and is crying out for', 'God, it is too late,', '', '~ The major flaw in The iilk', \"Train 1s that it doesn't seem\", 'to be going anywhere. Tlora is', 'a pathetic amusing clown but not', 'a tragic heroine, The play is', 'nevertheless worthwhile enter-', 'talnment,', '', '   ', ' ', '', '  ', '', ' ', '', ' ', '', 'Vol. 1, No, 3 Feb, 21, 1963', '', '‘ THE WEEXLY ARGO', '', \"Editor: Phillip Shapiro '63\", '', 'Asst. Editor: Joan Thrlich', '', 'Staff: Diener, Lauer, ‘tiolnar,', 'G. Spiro', '', ' ', '\\x0c']\n"
     ]
    }
   ],
   "source": [
    "with open(r\"C:\\Users\\Cheng\\OneDrive\\桌面\\WIN History Project\\Newspaper text in sorted years\\1963\\2-21-1963 Leela Menon(scan)_00001(copy).txt\", encoding=\"utf8\") as file:\n",
    "  text = file.read()\n",
    "  text = text.split(\"\\n\")\n",
    "  print(text)"
   ]
  },
  {
   "cell_type": "code",
   "execution_count": 1,
   "metadata": {},
   "outputs": [
    {
     "ename": "NameError",
     "evalue": "name 'tokenizer' is not defined",
     "output_type": "error",
     "traceback": [
      "\u001b[1;31m---------------------------------------------------------------------------\u001b[0m",
      "\u001b[1;31mNameError\u001b[0m                                 Traceback (most recent call last)",
      "Cell \u001b[1;32mIn[1], line 4\u001b[0m\n\u001b[0;32m      1\u001b[0m src_text \u001b[39m=\u001b[39m [\u001b[39m\"\u001b[39m\u001b[39mJi is issue Tre Arco marks its fiftieth anniversary as the Rutgers Prey Scheels official undergraduate publication, The school has changed much in this time. In 1889 it was a boarding school, but soon it coat purely a day school and remained such until, in 1912, the pew oot ie were built, and the school took on its present form, In 1 tr. Ezeki a - Cook had just taken over the headmastership of the school, a postion wl c he was to hold for two years. Under the long authority of ee io R. Payson, the next headmaster, the school prospered, and. the facut) was enlarged. Upon his resignation in 1908, Myron R. Scudder t09 ae = remained for three years. When William P. Kelly assumed the heat ina er- ship in 1911, the school was ripe for another change. The first three ae of the “Traps” were built in the next year, and the fourth followed shortly. He led the school through the difficult years of the World War, during which Joyce Kilmer, the school’s most famous alumnus, was killed in acon: Upon his retirement in April, 1934, because of ill health, Philip M. B. Boocock, whom many of our present students can remember, came to our school from Nichols School in Buffalo, N. Y. Three years later, when he resigned in order to return to Nichols School as headmaster, Mr. Shepard took over. Under his leadership Tire Arco has been revived, the school raised to its full complement of one hundred students, and the faculty again enlarged.\u001b[39m\u001b[39m\"\u001b[39m]\n\u001b[1;32m----> 4\u001b[0m batch \u001b[39m=\u001b[39m tokenizer\u001b[39m.\u001b[39mprepare_seq2seq_batch(src_text, truncation\u001b[39m=\u001b[39m\u001b[39mTrue\u001b[39;00m, padding\u001b[39m=\u001b[39m\u001b[39m'\u001b[39m\u001b[39mlongest\u001b[39m\u001b[39m'\u001b[39m,return_tensors\u001b[39m=\u001b[39m\u001b[39m'\u001b[39m\u001b[39mpt\u001b[39m\u001b[39m'\u001b[39m)\n\u001b[0;32m      5\u001b[0m translated \u001b[39m=\u001b[39m model\u001b[39m.\u001b[39mgenerate(\u001b[39m*\u001b[39m\u001b[39m*\u001b[39mbatch)\n\u001b[0;32m      6\u001b[0m tgt_text \u001b[39m=\u001b[39m tokenizer\u001b[39m.\u001b[39mbatch_decode(translated, skip_special_tokens\u001b[39m=\u001b[39m\u001b[39mTrue\u001b[39;00m)\n",
      "\u001b[1;31mNameError\u001b[0m: name 'tokenizer' is not defined"
     ]
    }
   ],
   "source": [
    "src_text = [\"Ji is issue Tre Arco marks its fiftieth anniversary as the Rutgers Prey Scheels official undergraduate publication, The school has changed much in this time. In 1889 it was a boarding school, but soon it coat purely a day school and remained such until, in 1912, the pew oot ie were built, and the school took on its present form, In 1 tr. Ezeki a - Cook had just taken over the headmastership of the school, a postion wl c he was to hold for two years. Under the long authority of ee io R. Payson, the next headmaster, the school prospered, and. the facut) was enlarged. Upon his resignation in 1908, Myron R. Scudder t09 ae = remained for three years. When William P. Kelly assumed the heat ina er- ship in 1911, the school was ripe for another change. The first three ae of the “Traps” were built in the next year, and the fourth followed shortly. He led the school through the difficult years of the World War, during which Joyce Kilmer, the school’s most famous alumnus, was killed in acon: Upon his retirement in April, 1934, because of ill health, Philip M. B. Boocock, whom many of our present students can remember, came to our school from Nichols School in Buffalo, N. Y. Three years later, when he resigned in order to return to Nichols School as headmaster, Mr. Shepard took over. Under his leadership Tire Arco has been revived, the school raised to its full complement of one hundred students, and the faculty again enlarged.\"]\n",
    "\n",
    "\n",
    "batch = tokenizer.prepare_seq2seq_batch(src_text, truncation=True, padding='longest',return_tensors='pt')\n",
    "translated = model.generate(**batch)\n",
    "tgt_text = tokenizer.batch_decode(translated, skip_special_tokens=True)"
   ]
  },
  {
   "cell_type": "code",
   "execution_count": 10,
   "metadata": {},
   "outputs": [
    {
     "name": "stdout",
     "output_type": "stream",
     "text": [
      "['To the Editor:']\n"
     ]
    }
   ],
   "source": [
    "print(tgt_text)"
   ]
  }
 ],
 "metadata": {
  "kernelspec": {
   "display_name": "Python 3",
   "language": "python",
   "name": "python3"
  },
  "language_info": {
   "codemirror_mode": {
    "name": "ipython",
    "version": 3
   },
   "file_extension": ".py",
   "mimetype": "text/x-python",
   "name": "python",
   "nbconvert_exporter": "python",
   "pygments_lexer": "ipython3",
   "version": "3.10.9 (tags/v3.10.9:1dd9be6, Dec  6 2022, 20:01:21) [MSC v.1934 64 bit (AMD64)]"
  },
  "orig_nbformat": 4,
  "vscode": {
   "interpreter": {
    "hash": "dbb24439d0f377cc9439056959e67499e213ea146e61dd405f0e49a9ad6cbeac"
   }
  }
 },
 "nbformat": 4,
 "nbformat_minor": 2
}
