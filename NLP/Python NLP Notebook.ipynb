{
 "cells": [
  {
   "cell_type": "code",
   "execution_count": null,
   "metadata": {},
   "outputs": [],
   "source": [
    "import textract\n",
    "import docx2txt\n",
    "import nltk\n",
    "import nltk.corpus\n",
    "import os\n",
    "from nltk.tokenize import sent_tokenize, word_tokenize\n",
    "import re\n",
    "from nltk.corpus import stopwords\n",
    "from nltk.stem import PorterStemmer\n",
    "import shutil\n",
    "import contractions\n",
    "import spacy\n",
    "from spacy.lang.en.stop_words import STOP_WORDS\n",
    "from string import punctuation\n",
    "from heapq import nlargest"
   ]
  },
  {
   "cell_type": "code",
   "execution_count": null,
   "metadata": {},
   "outputs": [],
   "source": [
    "#function from git to clean up expressions\n",
    "def unicodetoascii(text):\n",
    "\n",
    "    TEXT = (text.\n",
    "    \t\treplace('\\\\xe2\\\\x80\\\\x99', \"'\").\n",
    "            replace('\\\\xc3\\\\xa9', 'e').\n",
    "            replace('\\\\xe2\\\\x80\\\\x90', '-').\n",
    "            replace('\\\\xe2\\\\x80\\\\x91', '-').\n",
    "            replace('\\\\xe2\\\\x80\\\\x92', '-').\n",
    "            replace('\\\\xe2\\\\x80\\\\x93', '-').\n",
    "            replace('\\\\xe2\\\\x80\\\\x94', '-').\n",
    "            replace('\\\\xe2\\\\x80\\\\x94', '-').\n",
    "            replace('\\\\xe2\\\\x80\\\\x98', \"'\").\n",
    "            replace('\\\\xe2\\\\x80\\\\x9b', \"'\").\n",
    "            replace('\\\\xe2\\\\x80\\\\x9c', '\"').\n",
    "            replace('\\\\xe2\\\\x80\\\\x9c', '\"').\n",
    "            replace('\\\\xe2\\\\x80\\\\x9d', '\"').\n",
    "            replace('\\\\xe2\\\\x80\\\\x9e', '\"').\n",
    "            replace('\\\\xe2\\\\x80\\\\x9f', '\"').\n",
    "            replace('\\\\xe2\\\\x80\\\\xa6', '...').\n",
    "            replace('\\\\xe2\\\\x80\\\\xb2', \"'\").\n",
    "            replace('\\\\xe2\\\\x80\\\\xb3', \"'\").\n",
    "            replace('\\\\xe2\\\\x80\\\\xb4', \"'\").\n",
    "            replace('\\\\xe2\\\\x80\\\\xb5', \"'\").\n",
    "            replace('\\\\xe2\\\\x80\\\\xb6', \"'\").\n",
    "            replace('\\\\xe2\\\\x80\\\\xb7', \"'\").\n",
    "            replace('\\\\xe2\\\\x81\\\\xba', \"+\").\n",
    "            replace('\\\\xe2\\\\x81\\\\xbb', \"-\").\n",
    "            replace('\\\\xe2\\\\x81\\\\xbc', \"=\").\n",
    "            replace('\\\\xe2\\\\x81\\\\xbd', \"(\").\n",
    "            replace('\\\\xe2\\\\x81\\\\xbe', \")\")\n",
    "\n",
    "                 )\n",
    "    return TEXT"
   ]
  },
  {
   "cell_type": "code",
   "execution_count": null,
   "metadata": {},
   "outputs": [],
   "source": [
    "#tokenize word\n",
    "nltk.download('punkt')\n",
    "text = textract.process(r\"C:\\Users\\Cheng\\OneDrive\\桌面\\WIN History Project\\Argo Archive Word\\converted word documents\\1-28-1949 Leela Menon(scan)pdf_00001.docx\")\n",
    "text = str(text)\n",
    "text = unicodetoascii(text.replace(\"\\\\n\", \"\\n\")) #clean up the doc\n",
    "print(text)"
   ]
  },
  {
   "cell_type": "code",
   "execution_count": null,
   "metadata": {},
   "outputs": [],
   "source": [
    "#sort by year\n",
    "nltk.download(\"stopwords\")\n",
    "\n",
    "tokenized_word = word_tokenize(text)\n",
    "year = re.findall(r'.*([1-3][0-9]{3})', text)\n",
    "\n",
    "sorted_year = dict()\n",
    "file_length = []\n",
    "directory = r\"C:\\Users\\Cheng\\OneDrive\\桌面\\WIN History Project\\Argo Archive Text\"\n",
    "for filename in os.listdir(directory):\n",
    "    f = os.path.join(directory, filename)\n",
    "    with open(f, encoding= \"utf8\") as text_file:\n",
    "        file_str = text_file.read()\n",
    "        years = re.findall(r'.*([1][89][890123456][0-9])', file_str)\n",
    "    for year in years:\n",
    "        if int(year) > 1889:\n",
    "            if year not in sorted_year.keys():\n",
    "                this_list = [str(f)]\n",
    "                sorted_year[year] = this_list\n",
    "            else:\n",
    "                sorted_year[year].append(str(f))\n",
    "\n",
    "#print(sorted_year)\n",
    "\n"
   ]
  },
  {
   "cell_type": "markdown",
   "metadata": {},
   "source": [
    "directory = r\"C:\\Users\\Cheng\\OneDrive\\桌面\\WIN History Project\\Argo Archive Text\"\n",
    "for filename in os.listdir(directory):\n",
    "    if \"copy\" in filename:\n",
    "        f = os.path.join(directory, filename)\n",
    "        os.remove(f)"
   ]
  },
  {
   "cell_type": "markdown",
   "metadata": {},
   "source": [
    "#sort files in to separate directories using python\n",
    "mother_dir = r\"C:\\Users\\Cheng\\OneDrive\\桌面\\WIN History Project\\newspaper text in sorted years\"\n",
    "for i in sorted_year.keys():\n",
    "    newpath = i\n",
    "    newfolder = os.path.join(mother_dir, i)\n",
    "    if not os.path.exists(newfolder):\n",
    "        os.makedirs(newfolder)"
   ]
  },
  {
   "cell_type": "code",
   "execution_count": null,
   "metadata": {},
   "outputs": [],
   "source": [
    "mother_dir = r\"C:\\Users\\Cheng\\OneDrive\\桌面\\WIN History Project\\Newspaper text in sorted years\"\n",
    "\n",
    "for i in sorted_year.keys():\n",
    "    parent_dir = mother_dir + \"\\\\\" + i\n",
    "    #print(parent_dir)\n",
    "    for src_file_path in sorted_year[i]:\n",
    "        #print(src_file_path)\n",
    "        dst_file_path = parent_dir + \"\\\\\" + src_file_path.split(\"\\\\\")[-1].split(\".\")[0] + \"(copy).txt\"\n",
    "        #print(dst_file_path)\n",
    "        shutil.copy(src_file_path, dst_file_path)"
   ]
  },
  {
   "cell_type": "code",
   "execution_count": null,
   "metadata": {},
   "outputs": [],
   "source": [
    "nltk.download(\"stopwords\")"
   ]
  },
  {
   "cell_type": "code",
   "execution_count": null,
   "metadata": {},
   "outputs": [],
   "source": []
  },
  {
   "cell_type": "code",
   "execution_count": null,
   "metadata": {},
   "outputs": [],
   "source": [
    "def summarize(text, per):\n",
    "    nlp = spacy.load('en_core_web_sm')\n",
    "    doc= nlp(text)\n",
    "    tokens=[token.text for token in doc]\n",
    "    word_frequencies={}\n",
    "    for word in doc:\n",
    "        if word.text.lower() not in list(STOP_WORDS):\n",
    "            if word.text.lower() not in punctuation:\n",
    "                if word.text not in word_frequencies.keys():\n",
    "                    word_frequencies[word.text] = 1\n",
    "                else:\n",
    "                    word_frequencies[word.text] += 1\n",
    "    max_frequency=max(word_frequencies.values())\n",
    "    for word in word_frequencies.keys():\n",
    "        word_frequencies[word]=word_frequencies[word]/max_frequency\n",
    "    sentence_tokens= [sent for sent in doc.sents]\n",
    "    sentence_scores = {}\n",
    "    for sent in sentence_tokens:\n",
    "        for word in sent:\n",
    "            if word.text.lower() in word_frequencies.keys():\n",
    "                if sent not in sentence_scores.keys():                            \n",
    "                    sentence_scores[sent]=word_frequencies[word.text.lower()]\n",
    "                else:\n",
    "                    sentence_scores[sent]+=word_frequencies[word.text.lower()]\n",
    "    select_length=int(len(sentence_tokens)*per)\n",
    "    summary=nlargest(select_length, sentence_scores,key=sentence_scores.get)\n",
    "    final_summary=[word.text for word in summary]\n",
    "    summary=''.join(final_summary)\n",
    "    return summary"
   ]
  },
  {
   "cell_type": "code",
   "execution_count": null,
   "metadata": {},
   "outputs": [],
   "source": [
    "#word frequency\n",
    "\n",
    "#stopwords = set (stopwords.words(\"english\"))\n",
    "\n",
    "with open(r\"C:\\Users\\Cheng\\OneDrive\\桌面\\WIN History Project\\Newspaper text in sorted years\\1963\\2-21-1963 Leela Menon(scan)_00001(copy).txt\", encoding=\"utf8\") as file:\n",
    "  text = file.read()\n",
    "  text = \" \".join(text.split())\n",
    "  print(summarize(text, 0.05))\n",
    "  \n",
    "\n",
    "\n"
   ]
  },
  {
   "cell_type": "code",
   "execution_count": null,
   "metadata": {},
   "outputs": [],
   "source": [
    "#CHATGPT ......\n",
    "import transformers\n",
    "\n",
    "# Load the Bart model and tokenizer\n",
    "model = transformers.BartModel.from_pretrained('bart-large-cnn')\n",
    "tokenizer = transformers.BartTokenizer.from_pretrained('bart-large-cnn')\n",
    "\n",
    "# Encode the text and set the maximum length\n",
    "with open(r\"C:\\Users\\Cheng\\OneDrive\\桌面\\WIN History Project\\Newspaper text in sorted years\\1963\\2-21-1963 Leela Menon(scan)_00001(copy).txt\", encoding= \"utf-8\") as f:\n",
    "    input_text = f.read()\n",
    "input_text = \"This is the input text that you want to summarize.\"\n",
    "input_ids = tokenizer.encode(input_text, return_tensors='pt').to(device)\n",
    "max_length = 128\n",
    "\n",
    "# Generate the summary\n",
    "summary_ids = model.generate(input_ids, max_length=max_length, num_beams=4, early_stopping=True)\n",
    "\n",
    "# Decode the summary\n",
    "summary_text = tokenizer.decode(summary_ids[0], skip_special_tokens=True)\n",
    "print(summary_text)\n"
   ]
  },
  {
   "cell_type": "code",
   "execution_count": null,
   "metadata": {},
   "outputs": [],
   "source": [
    "import transformers\n",
    "import torch\n",
    "from transformers import PegasusForConditionalGeneration, PegasusTokenizer\n",
    "with open(r\"C:\\Users\\Cheng\\OneDrive\\桌面\\WIN History Project\\Newspaper text in sorted years\\1963\\2-21-1963 Leela Menon(scan)_00001(copy).txt\", encoding= \"utf8\") as f:\n",
    "    this_file = f.read()\n",
    "this_list = [this_file]\n",
    "model_name = \"google/pegasus-xsum\"\n",
    "device = \"cuda\" if torch.cuda.is_available() else \"cpu\"\n",
    "tokenizer = PegasusTokenizer.from_pretrained(model_name)\n",
    "max_length = 2000\n",
    "model = PegasusForConditionalGeneration.from_pretrained(model_name).to(device)\n",
    "batch = tokenizer(this_list, truncation=True, padding=\"longest\", return_tensors=\"pt\").to(device)\n",
    "translated = model.generate(**batch)\n",
    "tgt_text = tokenizer.batch_decode(translated, skip_special_tokens=True)\n",
    "print(tgt_text[0])"
   ]
  }
 ],
 "metadata": {
  "kernelspec": {
   "display_name": "Python 3",
   "language": "python",
   "name": "python3"
  },
  "language_info": {
   "codemirror_mode": {
    "name": "ipython",
    "version": 3
   },
   "file_extension": ".py",
   "mimetype": "text/x-python",
   "name": "python",
   "nbconvert_exporter": "python",
   "pygments_lexer": "ipython3",
   "version": "3.10.9 (tags/v3.10.9:1dd9be6, Dec  6 2022, 20:01:21) [MSC v.1934 64 bit (AMD64)]"
  },
  "orig_nbformat": 4,
  "vscode": {
   "interpreter": {
    "hash": "dbb24439d0f377cc9439056959e67499e213ea146e61dd405f0e49a9ad6cbeac"
   }
  }
 },
 "nbformat": 4,
 "nbformat_minor": 2
}
