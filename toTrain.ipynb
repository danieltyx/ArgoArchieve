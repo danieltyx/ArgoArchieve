{
 "cells": [
  {
   "cell_type": "code",
   "execution_count": null,
   "metadata": {},
   "outputs": [],
   "source": [
    "folder_path = f'C:\\Users\\Cheng\\OneDrive\\桌面\\WIN History Project\\Argo Archive Pdf\\Argo Archive-20221218T004734Z-001'\n",
    "\n"
   ]
  }
 ],
 "metadata": {
  "language_info": {
   "name": "python"
  },
  "orig_nbformat": 4
 },
 "nbformat": 4,
 "nbformat_minor": 2
}
